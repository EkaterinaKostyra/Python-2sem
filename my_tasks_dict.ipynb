{
 "cells": [
  {
   "cell_type": "code",
   "execution_count": 25,
   "metadata": {},
   "outputs": [],
   "source": [
    "#задание_1\n",
    "cinema_price={'Параизиты':{'seance':{12: 250,16: 350, 20: 450}},'1917':{'seance':{10: 250,13: 350,16: 350}},'Соник в кино':{'seance':{10: 350,14: 450,18: 450}}}"
   ]
  },
  {
   "cell_type": "code",
   "execution_count": 28,
   "metadata": {},
   "outputs": [
    {
     "data": {
      "text/plain": [
       "250"
      ]
     },
     "execution_count": 28,
     "metadata": {},
     "output_type": "execute_result"
    }
   ],
   "source": [
    "cinema_price['1917']['seance'][10]"
   ]
  },
  {
   "cell_type": "code",
   "execution_count": null,
   "metadata": {},
   "outputs": [],
   "source": [
    "#задание_2\n",
    "from pprint import pprint\n",
    "n=int(input('Простой todo:\\n1. Добавить задачу.\\n2. Вывести список задач. \\n3. Выход. \\n'))\n",
    "task=[]\n",
    "appendtask={}\n",
    "while n!=3:\n",
    "    if n==1:\n",
    "        appendtask['task']=input('Сформулируйте задачу: ')\n",
    "        apendtask['category']=input('Добавьте категорию к задаче: ')\n",
    "        appendtask['time']=input('Добавьте время к задаче: ')\n",
    "        task.append(appendtask)\n",
    "    elif n==2:\n",
    "        pprint(task)\n",
    "    print('Простой todo:\\n1. Добавить задачу.\\n2. Вывести список задач.\\n3. Выход.')\n",
    "    n=int(input())"
   ]
  },
  {
   "cell_type": "code",
   "execution_count": 1,
   "metadata": {},
   "outputs": [],
   "source": [
    "#задание_3\n",
    "def max_sequence(seq):\n",
    "    maximum=seq[:5]\n",
    "    maxs=sum(maximum)\n",
    "    for i in range(1,16):\n",
    "        if mas<sum(seq[i:i+5]):\n",
    "            maximum=seq[i:i+5]\n",
    "            maxs=sum(seq[i:i+5])\n",
    "    return maximum "
   ]
  },
  {
   "cell_type": "code",
   "execution_count": null,
   "metadata": {},
   "outputs": [],
   "source": []
  }
 ],
 "metadata": {
  "kernelspec": {
   "display_name": "Python 3",
   "language": "python",
   "name": "python3"
  },
  "language_info": {
   "codemirror_mode": {
    "name": "ipython",
    "version": 3
   },
   "file_extension": ".py",
   "mimetype": "text/x-python",
   "name": "python",
   "nbconvert_exporter": "python",
   "pygments_lexer": "ipython3",
   "version": "3.7.4"
  }
 },
 "nbformat": 4,
 "nbformat_minor": 4
}
