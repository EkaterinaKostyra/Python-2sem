{
 "cells": [
  {
   "cell_type": "code",
   "execution_count": null,
   "metadata": {},
   "outputs": [],
   "source": [
    "#Задача_1\n",
    "while True:\n",
    "    s = input(\"Знак (+,-,*,/): \")\n",
    "    if s == '0': break\n",
    "    if s in ('+','-','*','/'):\n",
    "        x = int(input(\"x=\"))\n",
    "        y = int(input(\"y=\"))\n",
    "        if s == '+':\n",
    "            print(\"%.2f\" % (x+y))\n",
    "        elif s == '-':\n",
    "            print(\"%.2f\" % (x-y))\n",
    "        elif s == '*':\n",
    "            print(\"%.2f\" % (x*y))\n",
    "        elif s == '/':\n",
    "            if y != 0:\n",
    "                print(\"%.2f\" % (x/y))\n",
    "            else:\n",
    "                print(\"Деление на ноль!\")\n",
    "    else:\n",
    "        print(\"Неверный знак операции!\")"
   ]
  },
  {
   "cell_type": "code",
   "execution_count": null,
   "metadata": {},
   "outputs": [],
   "source": []
  }
 ],
 "metadata": {
  "kernelspec": {
   "display_name": "Python 3",
   "language": "python",
   "name": "python3"
  },
  "language_info": {
   "codemirror_mode": {
    "name": "ipython",
    "version": 3
   },
   "file_extension": ".py",
   "mimetype": "text/x-python",
   "name": "python",
   "nbconvert_exporter": "python",
   "pygments_lexer": "ipython3",
   "version": "3.7.4"
  }
 },
 "nbformat": 4,
 "nbformat_minor": 4
}
