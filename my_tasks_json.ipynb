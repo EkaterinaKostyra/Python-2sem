{
 "cells": [
  {
   "cell_type": "code",
   "execution_count": 1,
   "metadata": {},
   "outputs": [],
   "source": [
    "def to_do_list():\n",
    "    try:\n",
    "        x = []\n",
    "        while True:\n",
    "            y = int(input(\"Введите 1, 2 или 3: \"))\n",
    "            if y == 3:\n",
    "                with open(\"new_to_do_list.json\",\"w\") as file:\n",
    "                    file.write('x')\n",
    "                print('Задачи сохранены!')\n",
    "                break\n",
    "            elif y == 2:\n",
    "                print(x)\n",
    "            else:\n",
    "                name = (\"Сформулируйте задачу: \")\n",
    "                category = input(\"Введите категорию задачи: \")\n",
    "                time = input(\"Время выполнения задачи: \")\n",
    "                x.append({\"category\": category, \"name\": name, \"time\": time})\n",
    "    except Exception as z:\n",
    "        print(z)"
   ]
  },
  {
   "cell_type": "code",
   "execution_count": null,
   "metadata": {},
   "outputs": [
    {
     "name": "stdin",
     "output_type": "stream",
     "text": [
      "Введите 1, 2 или 3:  1\n",
      "Сформулируйте задачу:  cat1\n",
      "Введите категорию задачи:  h\n",
      "Время выполнения задачи:  h\n",
      "Введите 1, 2 или 3:  1\n",
      "Сформулируйте задачу:  task1\n",
      "Введите категорию задачи:  cat1\n",
      "Время выполнения задачи:  222\n",
      "Введите 1, 2 или 3:  1\n",
      "Сформулируйте задачу:  task2\n",
      "Введите категорию задачи:  cat2\n",
      "Время выполнения задачи:  444\n",
      "Введите 1, 2 или 3:  2\n"
     ]
    },
    {
     "name": "stdout",
     "output_type": "stream",
     "text": [
      "[{'category': 'h', 'name': 'cat1', 'time': 'h'}, {'category': 'cat1', 'name': 'task1', 'time': '222'}, {'category': 'cat2', 'name': 'task2', 'time': '444'}]\n"
     ]
    }
   ],
   "source": [
    "try:\n",
    "    x = []\n",
    "    while True:\n",
    "        y = int(input(\"Введите 1, 2 или 3: \"))\n",
    "        if y == 3:\n",
    "            with open(\"new_to_do_list.json\",\"w\") as file:\n",
    "                file.write('x')\n",
    "            print('Задачи сохранены!')\n",
    "            break\n",
    "        elif y == 2:\n",
    "            print(x)\n",
    "        else:\n",
    "            name = input(\"Сформулируйте задачу: \")\n",
    "            category = input(\"Введите категорию задачи: \")\n",
    "            time = input(\"Время выполнения задачи: \")\n",
    "            x.append({\"category\": category, \"name\": name, \"time\": time})\n",
    "except Exception as z:\n",
    "    print(z)"
   ]
  },
  {
   "cell_type": "code",
   "execution_count": null,
   "metadata": {},
   "outputs": [],
   "source": []
  }
 ],
 "metadata": {
  "kernelspec": {
   "display_name": "Python 3",
   "language": "python",
   "name": "python3"
  },
  "language_info": {
   "codemirror_mode": {
    "name": "ipython",
    "version": 3
   },
   "file_extension": ".py",
   "mimetype": "text/x-python",
   "name": "python",
   "nbconvert_exporter": "python",
   "pygments_lexer": "ipython3",
   "version": "3.7.6"
  }
 },
 "nbformat": 4,
 "nbformat_minor": 4
}
