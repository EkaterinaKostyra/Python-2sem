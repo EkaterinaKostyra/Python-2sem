{
 "cells": [
  {
   "cell_type": "code",
   "execution_count": 32,
   "metadata": {},
   "outputs": [],
   "source": [
    "class Character:\n",
    "    count=0\n",
    "    animate = [ \"AnimateStay \", \"AnimateRun \", \"AnimateShoot \", \"AnimateObject \", \"AnimateFlying \"]\n",
    "    def __init__(self, name = 'Персонаж без имени', x = 0, y = 0, power = 40, speed = 5, objects = 1):\n",
    "        self.__name = name\n",
    "        self._x = x\n",
    "        self._y = y\n",
    "        self._power = power\n",
    "        self._speed = speed\n",
    "        self._objects = objects\n",
    "        Character.count += 1\n",
    "        print(f'Создался новый персонаж {self.__name}: {Character.animate[0]}')\n",
    "    def run(self, delta_x=1, delta_y=1):\n",
    "        self._x += delta_x\n",
    "        self._y += delta_y\n",
    "        print(f'Персонаж {self.__name} бежит, его координаты {self._x, self._y}: {Character.animate[1]}')\n",
    "    def shoot(self):\n",
    "        print (f'Персонаж {self.__name} выстрелил: {Character.animate[2]}')\n",
    "    def get_objects(self, object1):\n",
    "        if object1 == 'SuperSpeed':\n",
    "            self._speed *=3\n",
    "        elif object1 == 'SuperPower':\n",
    "            self._power *= 2\n",
    "        else: \n",
    "            self._objects +=1\n",
    "            print(f'Персонаж {self.__name} подобрал предмет {object1}: {Character.animate[3]}')\n",
    "class characterflying (Character):\n",
    "    def __init__(self, name ='Персонаж без имени', x = 0, y = 0, power = 55, speed = 20, objects = 1):\n",
    "        Character.__init__(self, name = name, x = x, y = y, power = power, speed = speed, objects = objects)"
   ]
  },
  {
   "cell_type": "code",
   "execution_count": 33,
   "metadata": {},
   "outputs": [
    {
     "name": "stdout",
     "output_type": "stream",
     "text": [
      "Создался новый персонаж Fox: AnimateStay \n",
      "Создался новый персонаж Bird: AnimateStay \n",
      "Создался новый персонаж Hare: AnimateStay \n",
      "Количество персонажей: 3\n",
      "Скорость обычного персонажа: 5\n",
      "Скорость летающего персонажа: 20\n",
      "Персонаж Fox выстрелил: AnimateShoot \n",
      "Персонаж Hare бежит, его координаты (3, 11): AnimateRun \n",
      "Персонаж Bird бежит, его координаты (4, 13): AnimateRun \n",
      "Персонаж Fox подобрал предмет article: AnimateObject \n",
      "Персонаж Fox подобрал предмет UpperSpeed: AnimateObject \n"
     ]
    },
    {
     "data": {
      "text/plain": [
       "5"
      ]
     },
     "execution_count": 33,
     "metadata": {},
     "output_type": "execute_result"
    }
   ],
   "source": [
    "character1 = Character('Fox')\n",
    "character2 = characterflying('Bird',1,2)\n",
    "character3 = Character('Hare')\n",
    "print(f'Количество персонажей: {Character.count}')\n",
    "\n",
    "print(f'Скорость обычного персонажа: {character1._speed}')\n",
    "print(f'Скорость летающего персонажа: {character2._speed}')\n",
    "\n",
    "character1.shoot()\n",
    "character3.run(3,11)\n",
    "\n",
    "character2.run(3,11)\n",
    "\n",
    "character1.get_objects('article')\n",
    "character1._objects\n",
    "\n",
    "character1.get_objects('UpperSpeed')\n",
    "character1._speed"
   ]
  },
  {
   "cell_type": "code",
   "execution_count": null,
   "metadata": {},
   "outputs": [],
   "source": []
  },
  {
   "cell_type": "code",
   "execution_count": null,
   "metadata": {},
   "outputs": [],
   "source": []
  }
 ],
 "metadata": {
  "kernelspec": {
   "display_name": "Python 3",
   "language": "python",
   "name": "python3"
  },
  "language_info": {
   "codemirror_mode": {
    "name": "ipython",
    "version": 3
   },
   "file_extension": ".py",
   "mimetype": "text/x-python",
   "name": "python",
   "nbconvert_exporter": "python",
   "pygments_lexer": "ipython3",
   "version": "3.7.4"
  }
 },
 "nbformat": 4,
 "nbformat_minor": 4
}
