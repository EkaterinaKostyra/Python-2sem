{
 "cells": [
  {
   "cell_type": "code",
   "execution_count": 12,
   "metadata": {},
   "outputs": [
    {
     "name": "stdout",
     "output_type": "stream",
     "text": [
      "['<!DOCTYPE html>\\n', '<html lang=\"en\">\\n', '  <head>\\n', '    <meta charset=\"utf-8\">\\n', '  <link rel=\"dns-prefetch\" href=\"https://github.githubassets.com\">\\n', '\\n', '\\n', '\\n', '\\n', '\\n']\n"
     ]
    }
   ],
   "source": [
    "#Задача_4\n",
    "with open (\"moby_clean.txt\", \"r\") as file:\n",
    "    spisok = file.readlines()\n",
    "    vocabulary = {i: spisok.count(i) for i in spisok}\n",
    "    a = sorted(list(vocabulary.values()))\n",
    "    max = a[:5]\n",
    "    min = a[-5:]\n",
    "    func_max = [i for i in spisok if vocabulary[i] == max[0] or vocabulary[i] == max[1] or vocabulary[i] == max[2] or vocabulary[i] == max[3] or vocabulary[i] == max[4]][:5]\n",
    "    func_min =[i for i in spisok if vocabulary[i] == min[0] or vocabulary[i] == min[1] or vocabulary[i] == min[2] or vocabulary[i] == min[3] or vocabulary[i] == min[4]][:5]\n",
    "    print(func_max+func_min)"
   ]
  },
  {
   "cell_type": "code",
   "execution_count": null,
   "metadata": {},
   "outputs": [],
   "source": []
  }
 ],
 "metadata": {
  "kernelspec": {
   "display_name": "Python 3",
   "language": "python",
   "name": "python3"
  },
  "language_info": {
   "codemirror_mode": {
    "name": "ipython",
    "version": 3
   },
   "file_extension": ".py",
   "mimetype": "text/x-python",
   "name": "python",
   "nbconvert_exporter": "python",
   "pygments_lexer": "ipython3",
   "version": "3.7.4"
  }
 },
 "nbformat": 4,
 "nbformat_minor": 4
}
