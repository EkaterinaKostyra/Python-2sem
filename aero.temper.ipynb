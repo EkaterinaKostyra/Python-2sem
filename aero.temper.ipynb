{
 "cells": [
  {
   "cell_type": "code",
   "execution_count": 1,
   "metadata": {},
   "outputs": [
    {
     "name": "stdout",
     "output_type": "stream",
     "text": [
      "Количество уникальных температур: 217\n",
      "Минимальное значение температуры: 0.8\n",
      "Среднее значение температуры: 15.0\n",
      "Максимальное значение температуры: 28.2\n"
     ]
    }
   ],
   "source": [
    "#Задача_2\n",
    "temp={} \n",
    "with open ('temper_stat.txt', 'r') as file:\n",
    "    for line in file:\n",
    "        line=float(line.strip())\n",
    "        try:\n",
    "            temp[line] += 1\n",
    "        except KeyError:\n",
    "            temp[line] = 1\n",
    "    count_temp=str(len(temp))\n",
    "    min_temp=str(min(temp.keys()))\n",
    "    average_temp=str(round(sum(temp.keys())/len(temp),1))\n",
    "    max_temp=str(max(temp.keys()))\n",
    "print(\"Количество уникальных температур: \" + count_temp)\n",
    "print(\"Минимальное значение температуры: \" + min_temp)\n",
    "print(\"Среднее значение температуры: \" + average_temp)\n",
    "print(\"Максимальное значение температуры: \" + max_temp)"
   ]
  },
  {
   "cell_type": "code",
   "execution_count": null,
   "metadata": {},
   "outputs": [],
   "source": []
  }
 ],
 "metadata": {
  "kernelspec": {
   "display_name": "Python 3",
   "language": "python",
   "name": "python3"
  },
  "language_info": {
   "codemirror_mode": {
    "name": "ipython",
    "version": 3
   },
   "file_extension": ".py",
   "mimetype": "text/x-python",
   "name": "python",
   "nbconvert_exporter": "python",
   "pygments_lexer": "ipython3",
   "version": "3.7.4"
  }
 },
 "nbformat": 4,
 "nbformat_minor": 4
}
